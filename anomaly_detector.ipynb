{
 "cells": [
  {
   "cell_type": "code",
   "execution_count": 7,
   "metadata": {},
   "outputs": [],
   "source": [
    "import pandas as pd"
   ]
  },
  {
   "cell_type": "code",
   "execution_count": 8,
   "metadata": {},
   "outputs": [],
   "source": [
    "df = pd.read_csv(\"kddcup_corrected_subset.csv\", index_col=None)"
   ]
  },
  {
   "cell_type": "code",
   "execution_count": 9,
   "metadata": {},
   "outputs": [
    {
     "data": {
      "text/html": [
       "<div>\n",
       "<style scoped>\n",
       "    .dataframe tbody tr th:only-of-type {\n",
       "        vertical-align: middle;\n",
       "    }\n",
       "\n",
       "    .dataframe tbody tr th {\n",
       "        vertical-align: top;\n",
       "    }\n",
       "\n",
       "    .dataframe thead th {\n",
       "        text-align: right;\n",
       "    }\n",
       "</style>\n",
       "<table border=\"1\" class=\"dataframe\">\n",
       "  <thead>\n",
       "    <tr style=\"text-align: right;\">\n",
       "      <th></th>\n",
       "      <th>duration</th>\n",
       "      <th>\"protocol_type\"</th>\n",
       "      <th>\"flag\"</th>\n",
       "      <th>\"src_bytes\"</th>\n",
       "      <th>\"dst_bytes\"</th>\n",
       "      <th>\"land\"</th>\n",
       "      <th>\"wrong_fragment\"</th>\n",
       "      <th>\"urgent\"</th>\n",
       "      <th>hot</th>\n",
       "      <th>\"num_failed_logins\"</th>\n",
       "      <th>...</th>\n",
       "      <th>\"dst_host_srv_count\"</th>\n",
       "      <th>\"dst_host_same_srv_rate\"</th>\n",
       "      <th>\"dst_host_diff_srv_rate\"</th>\n",
       "      <th>\"dst_host_same_src_port_rate\"</th>\n",
       "      <th>\"dst_host_srv_diff_host_rate\"</th>\n",
       "      <th>dst_host_serror_rate</th>\n",
       "      <th>\"dst_host_srv_serror_rate\"</th>\n",
       "      <th>\"dst_host_rerror_rate\"</th>\n",
       "      <th>\"dst_host_srv_rerror_rate\"</th>\n",
       "      <th>label</th>\n",
       "    </tr>\n",
       "  </thead>\n",
       "  <tbody>\n",
       "    <tr>\n",
       "      <th>0</th>\n",
       "      <td>0</td>\n",
       "      <td>tcp</td>\n",
       "      <td>SF</td>\n",
       "      <td>223</td>\n",
       "      <td>185</td>\n",
       "      <td>0</td>\n",
       "      <td>0</td>\n",
       "      <td>0</td>\n",
       "      <td>0</td>\n",
       "      <td>0</td>\n",
       "      <td>...</td>\n",
       "      <td>255</td>\n",
       "      <td>1</td>\n",
       "      <td>0</td>\n",
       "      <td>1</td>\n",
       "      <td>1</td>\n",
       "      <td>0</td>\n",
       "      <td>0</td>\n",
       "      <td>0</td>\n",
       "      <td>0</td>\n",
       "      <td>normal</td>\n",
       "    </tr>\n",
       "    <tr>\n",
       "      <th>1</th>\n",
       "      <td>0</td>\n",
       "      <td>tcp</td>\n",
       "      <td>SF</td>\n",
       "      <td>230</td>\n",
       "      <td>260</td>\n",
       "      <td>0</td>\n",
       "      <td>0</td>\n",
       "      <td>0</td>\n",
       "      <td>0</td>\n",
       "      <td>0</td>\n",
       "      <td>...</td>\n",
       "      <td>255</td>\n",
       "      <td>1</td>\n",
       "      <td>0</td>\n",
       "      <td>33</td>\n",
       "      <td>7</td>\n",
       "      <td>33</td>\n",
       "      <td>0</td>\n",
       "      <td>0</td>\n",
       "      <td>0</td>\n",
       "      <td>normal</td>\n",
       "    </tr>\n",
       "    <tr>\n",
       "      <th>2</th>\n",
       "      <td>0</td>\n",
       "      <td>tcp</td>\n",
       "      <td>SF</td>\n",
       "      <td>297</td>\n",
       "      <td>13787</td>\n",
       "      <td>0</td>\n",
       "      <td>0</td>\n",
       "      <td>0</td>\n",
       "      <td>0</td>\n",
       "      <td>0</td>\n",
       "      <td>...</td>\n",
       "      <td>255</td>\n",
       "      <td>1</td>\n",
       "      <td>0</td>\n",
       "      <td>1</td>\n",
       "      <td>1</td>\n",
       "      <td>0</td>\n",
       "      <td>0</td>\n",
       "      <td>0</td>\n",
       "      <td>0</td>\n",
       "      <td>normal</td>\n",
       "    </tr>\n",
       "    <tr>\n",
       "      <th>3</th>\n",
       "      <td>0</td>\n",
       "      <td>tcp</td>\n",
       "      <td>SF</td>\n",
       "      <td>291</td>\n",
       "      <td>3542</td>\n",
       "      <td>0</td>\n",
       "      <td>0</td>\n",
       "      <td>0</td>\n",
       "      <td>0</td>\n",
       "      <td>0</td>\n",
       "      <td>...</td>\n",
       "      <td>255</td>\n",
       "      <td>1</td>\n",
       "      <td>0</td>\n",
       "      <td>1</td>\n",
       "      <td>1</td>\n",
       "      <td>0</td>\n",
       "      <td>0</td>\n",
       "      <td>0</td>\n",
       "      <td>0</td>\n",
       "      <td>normal</td>\n",
       "    </tr>\n",
       "    <tr>\n",
       "      <th>4</th>\n",
       "      <td>0</td>\n",
       "      <td>tcp</td>\n",
       "      <td>SF</td>\n",
       "      <td>295</td>\n",
       "      <td>753</td>\n",
       "      <td>0</td>\n",
       "      <td>0</td>\n",
       "      <td>0</td>\n",
       "      <td>0</td>\n",
       "      <td>0</td>\n",
       "      <td>...</td>\n",
       "      <td>255</td>\n",
       "      <td>1</td>\n",
       "      <td>0</td>\n",
       "      <td>1</td>\n",
       "      <td>1</td>\n",
       "      <td>0</td>\n",
       "      <td>0</td>\n",
       "      <td>0</td>\n",
       "      <td>0</td>\n",
       "      <td>normal</td>\n",
       "    </tr>\n",
       "  </tbody>\n",
       "</table>\n",
       "<p>5 rows × 41 columns</p>\n",
       "</div>"
      ],
      "text/plain": [
       "   duration  \"protocol_type\"  \"flag\"   \"src_bytes\"   \"dst_bytes\"   \"land\"  \\\n",
       "0         0              tcp      SF           223           185        0   \n",
       "1         0              tcp      SF           230           260        0   \n",
       "2         0              tcp      SF           297         13787        0   \n",
       "3         0              tcp      SF           291          3542        0   \n",
       "4         0              tcp      SF           295           753        0   \n",
       "\n",
       "    \"wrong_fragment\"   \"urgent\"  hot   \"num_failed_logins\"  ...  \\\n",
       "0                  0          0    0                     0  ...   \n",
       "1                  0          0    0                     0  ...   \n",
       "2                  0          0    0                     0  ...   \n",
       "3                  0          0    0                     0  ...   \n",
       "4                  0          0    0                     0  ...   \n",
       "\n",
       "    \"dst_host_srv_count\"   \"dst_host_same_srv_rate\"  \\\n",
       "0                    255                          1   \n",
       "1                    255                          1   \n",
       "2                    255                          1   \n",
       "3                    255                          1   \n",
       "4                    255                          1   \n",
       "\n",
       "    \"dst_host_diff_srv_rate\"   \"dst_host_same_src_port_rate\"  \\\n",
       "0                          0                               1   \n",
       "1                          0                              33   \n",
       "2                          0                               1   \n",
       "3                          0                               1   \n",
       "4                          0                               1   \n",
       "\n",
       "    \"dst_host_srv_diff_host_rate\"  dst_host_serror_rate  \\\n",
       "0                               1                     0   \n",
       "1                               7                    33   \n",
       "2                               1                     0   \n",
       "3                               1                     0   \n",
       "4                               1                     0   \n",
       "\n",
       "    \"dst_host_srv_serror_rate\"   \"dst_host_rerror_rate\"  \\\n",
       "0                            0                        0   \n",
       "1                            0                        0   \n",
       "2                            0                        0   \n",
       "3                            0                        0   \n",
       "4                            0                        0   \n",
       "\n",
       "    \"dst_host_srv_rerror_rate\"   label  \n",
       "0                            0  normal  \n",
       "1                            0  normal  \n",
       "2                            0  normal  \n",
       "3                            0  normal  \n",
       "4                            0  normal  \n",
       "\n",
       "[5 rows x 41 columns]"
      ]
     },
     "execution_count": 9,
     "metadata": {},
     "output_type": "execute_result"
    }
   ],
   "source": [
    "df.head(5)"
   ]
  },
  {
   "cell_type": "code",
   "execution_count": 10,
   "metadata": {},
   "outputs": [
    {
     "data": {
      "text/html": [
       "<div>\n",
       "<style scoped>\n",
       "    .dataframe tbody tr th:only-of-type {\n",
       "        vertical-align: middle;\n",
       "    }\n",
       "\n",
       "    .dataframe tbody tr th {\n",
       "        vertical-align: top;\n",
       "    }\n",
       "\n",
       "    .dataframe thead th {\n",
       "        text-align: right;\n",
       "    }\n",
       "</style>\n",
       "<table border=\"1\" class=\"dataframe\">\n",
       "  <thead>\n",
       "    <tr style=\"text-align: right;\">\n",
       "      <th></th>\n",
       "      <th>duration</th>\n",
       "      <th>\"src_bytes\"</th>\n",
       "      <th>\"dst_bytes\"</th>\n",
       "      <th>\"land\"</th>\n",
       "      <th>\"wrong_fragment\"</th>\n",
       "      <th>\"urgent\"</th>\n",
       "      <th>hot</th>\n",
       "      <th>\"num_failed_logins\"</th>\n",
       "      <th>\"logged_in\"</th>\n",
       "      <th>\"num_compromised\"</th>\n",
       "      <th>...</th>\n",
       "      <th>\"dst_host_count\"</th>\n",
       "      <th>\"dst_host_srv_count\"</th>\n",
       "      <th>\"dst_host_same_srv_rate\"</th>\n",
       "      <th>\"dst_host_diff_srv_rate\"</th>\n",
       "      <th>\"dst_host_same_src_port_rate\"</th>\n",
       "      <th>\"dst_host_srv_diff_host_rate\"</th>\n",
       "      <th>dst_host_serror_rate</th>\n",
       "      <th>\"dst_host_srv_serror_rate\"</th>\n",
       "      <th>\"dst_host_rerror_rate\"</th>\n",
       "      <th>\"dst_host_srv_rerror_rate\"</th>\n",
       "    </tr>\n",
       "  </thead>\n",
       "  <tbody>\n",
       "    <tr>\n",
       "      <th>count</th>\n",
       "      <td>41237.000000</td>\n",
       "      <td>41237.000000</td>\n",
       "      <td>4.123700e+04</td>\n",
       "      <td>41237.0</td>\n",
       "      <td>41237.0</td>\n",
       "      <td>41237.0</td>\n",
       "      <td>41237.000000</td>\n",
       "      <td>41237.0</td>\n",
       "      <td>41237.000000</td>\n",
       "      <td>41237.000000</td>\n",
       "      <td>...</td>\n",
       "      <td>41237.000000</td>\n",
       "      <td>41237.000000</td>\n",
       "      <td>41237.000000</td>\n",
       "      <td>41237.000000</td>\n",
       "      <td>41237.000000</td>\n",
       "      <td>41237.000000</td>\n",
       "      <td>41237.000000</td>\n",
       "      <td>41237.000000</td>\n",
       "      <td>41237.000000</td>\n",
       "      <td>41237.000000</td>\n",
       "    </tr>\n",
       "    <tr>\n",
       "      <th>mean</th>\n",
       "      <td>15.693552</td>\n",
       "      <td>2448.400078</td>\n",
       "      <td>4.681683e+03</td>\n",
       "      <td>0.0</td>\n",
       "      <td>0.0</td>\n",
       "      <td>0.0</td>\n",
       "      <td>0.053762</td>\n",
       "      <td>0.0</td>\n",
       "      <td>0.990227</td>\n",
       "      <td>0.025923</td>\n",
       "      <td>...</td>\n",
       "      <td>141.463443</td>\n",
       "      <td>246.231685</td>\n",
       "      <td>4.678881</td>\n",
       "      <td>0.169168</td>\n",
       "      <td>2.636516</td>\n",
       "      <td>1.882678</td>\n",
       "      <td>0.350292</td>\n",
       "      <td>0.283071</td>\n",
       "      <td>0.921309</td>\n",
       "      <td>0.797366</td>\n",
       "    </tr>\n",
       "    <tr>\n",
       "      <th>std</th>\n",
       "      <td>148.101460</td>\n",
       "      <td>11048.017170</td>\n",
       "      <td>2.774318e+04</td>\n",
       "      <td>0.0</td>\n",
       "      <td>0.0</td>\n",
       "      <td>0.0</td>\n",
       "      <td>0.323289</td>\n",
       "      <td>0.0</td>\n",
       "      <td>0.098374</td>\n",
       "      <td>0.165780</td>\n",
       "      <td>...</td>\n",
       "      <td>104.976288</td>\n",
       "      <td>35.095851</td>\n",
       "      <td>17.926474</td>\n",
       "      <td>2.305841</td>\n",
       "      <td>5.331950</td>\n",
       "      <td>2.186245</td>\n",
       "      <td>4.050813</td>\n",
       "      <td>3.613676</td>\n",
       "      <td>6.389255</td>\n",
       "      <td>5.699760</td>\n",
       "    </tr>\n",
       "    <tr>\n",
       "      <th>min</th>\n",
       "      <td>0.000000</td>\n",
       "      <td>0.000000</td>\n",
       "      <td>0.000000e+00</td>\n",
       "      <td>0.0</td>\n",
       "      <td>0.0</td>\n",
       "      <td>0.0</td>\n",
       "      <td>0.000000</td>\n",
       "      <td>0.0</td>\n",
       "      <td>0.000000</td>\n",
       "      <td>0.000000</td>\n",
       "      <td>...</td>\n",
       "      <td>0.000000</td>\n",
       "      <td>0.000000</td>\n",
       "      <td>0.000000</td>\n",
       "      <td>0.000000</td>\n",
       "      <td>0.000000</td>\n",
       "      <td>0.000000</td>\n",
       "      <td>0.000000</td>\n",
       "      <td>0.000000</td>\n",
       "      <td>0.000000</td>\n",
       "      <td>0.000000</td>\n",
       "    </tr>\n",
       "    <tr>\n",
       "      <th>25%</th>\n",
       "      <td>0.000000</td>\n",
       "      <td>219.000000</td>\n",
       "      <td>5.960000e+02</td>\n",
       "      <td>0.0</td>\n",
       "      <td>0.0</td>\n",
       "      <td>0.0</td>\n",
       "      <td>0.000000</td>\n",
       "      <td>0.0</td>\n",
       "      <td>1.000000</td>\n",
       "      <td>0.000000</td>\n",
       "      <td>...</td>\n",
       "      <td>31.000000</td>\n",
       "      <td>255.000000</td>\n",
       "      <td>1.000000</td>\n",
       "      <td>0.000000</td>\n",
       "      <td>0.000000</td>\n",
       "      <td>0.000000</td>\n",
       "      <td>0.000000</td>\n",
       "      <td>0.000000</td>\n",
       "      <td>0.000000</td>\n",
       "      <td>0.000000</td>\n",
       "    </tr>\n",
       "    <tr>\n",
       "      <th>50%</th>\n",
       "      <td>0.000000</td>\n",
       "      <td>260.000000</td>\n",
       "      <td>1.680000e+03</td>\n",
       "      <td>0.0</td>\n",
       "      <td>0.0</td>\n",
       "      <td>0.0</td>\n",
       "      <td>0.000000</td>\n",
       "      <td>0.0</td>\n",
       "      <td>1.000000</td>\n",
       "      <td>0.000000</td>\n",
       "      <td>...</td>\n",
       "      <td>134.000000</td>\n",
       "      <td>255.000000</td>\n",
       "      <td>1.000000</td>\n",
       "      <td>0.000000</td>\n",
       "      <td>1.000000</td>\n",
       "      <td>1.000000</td>\n",
       "      <td>0.000000</td>\n",
       "      <td>0.000000</td>\n",
       "      <td>0.000000</td>\n",
       "      <td>0.000000</td>\n",
       "    </tr>\n",
       "    <tr>\n",
       "      <th>75%</th>\n",
       "      <td>0.000000</td>\n",
       "      <td>311.000000</td>\n",
       "      <td>4.910000e+03</td>\n",
       "      <td>0.0</td>\n",
       "      <td>0.0</td>\n",
       "      <td>0.0</td>\n",
       "      <td>0.000000</td>\n",
       "      <td>0.0</td>\n",
       "      <td>1.000000</td>\n",
       "      <td>0.000000</td>\n",
       "      <td>...</td>\n",
       "      <td>255.000000</td>\n",
       "      <td>255.000000</td>\n",
       "      <td>1.000000</td>\n",
       "      <td>0.000000</td>\n",
       "      <td>3.000000</td>\n",
       "      <td>3.000000</td>\n",
       "      <td>0.000000</td>\n",
       "      <td>0.000000</td>\n",
       "      <td>0.000000</td>\n",
       "      <td>0.000000</td>\n",
       "    </tr>\n",
       "    <tr>\n",
       "      <th>max</th>\n",
       "      <td>2100.000000</td>\n",
       "      <td>107604.000000</td>\n",
       "      <td>5.203179e+06</td>\n",
       "      <td>0.0</td>\n",
       "      <td>0.0</td>\n",
       "      <td>0.0</td>\n",
       "      <td>7.000000</td>\n",
       "      <td>0.0</td>\n",
       "      <td>1.000000</td>\n",
       "      <td>7.000000</td>\n",
       "      <td>...</td>\n",
       "      <td>255.000000</td>\n",
       "      <td>255.000000</td>\n",
       "      <td>99.000000</td>\n",
       "      <td>99.000000</td>\n",
       "      <td>74.000000</td>\n",
       "      <td>67.000000</td>\n",
       "      <td>98.000000</td>\n",
       "      <td>87.000000</td>\n",
       "      <td>99.000000</td>\n",
       "      <td>89.000000</td>\n",
       "    </tr>\n",
       "  </tbody>\n",
       "</table>\n",
       "<p>8 rows × 38 columns</p>\n",
       "</div>"
      ],
      "text/plain": [
       "           duration    \"src_bytes\"   \"dst_bytes\"   \"land\"   \"wrong_fragment\"  \\\n",
       "count  41237.000000   41237.000000  4.123700e+04  41237.0            41237.0   \n",
       "mean      15.693552    2448.400078  4.681683e+03      0.0                0.0   \n",
       "std      148.101460   11048.017170  2.774318e+04      0.0                0.0   \n",
       "min        0.000000       0.000000  0.000000e+00      0.0                0.0   \n",
       "25%        0.000000     219.000000  5.960000e+02      0.0                0.0   \n",
       "50%        0.000000     260.000000  1.680000e+03      0.0                0.0   \n",
       "75%        0.000000     311.000000  4.910000e+03      0.0                0.0   \n",
       "max     2100.000000  107604.000000  5.203179e+06      0.0                0.0   \n",
       "\n",
       "        \"urgent\"           hot   \"num_failed_logins\"   \"logged_in\"  \\\n",
       "count    41237.0  41237.000000               41237.0  41237.000000   \n",
       "mean         0.0      0.053762                   0.0      0.990227   \n",
       "std          0.0      0.323289                   0.0      0.098374   \n",
       "min          0.0      0.000000                   0.0      0.000000   \n",
       "25%          0.0      0.000000                   0.0      1.000000   \n",
       "50%          0.0      0.000000                   0.0      1.000000   \n",
       "75%          0.0      0.000000                   0.0      1.000000   \n",
       "max          0.0      7.000000                   0.0      1.000000   \n",
       "\n",
       "        \"num_compromised\"  ...   \"dst_host_count\"   \"dst_host_srv_count\"  \\\n",
       "count        41237.000000  ...       41237.000000           41237.000000   \n",
       "mean             0.025923  ...         141.463443             246.231685   \n",
       "std              0.165780  ...         104.976288              35.095851   \n",
       "min              0.000000  ...           0.000000               0.000000   \n",
       "25%              0.000000  ...          31.000000             255.000000   \n",
       "50%              0.000000  ...         134.000000             255.000000   \n",
       "75%              0.000000  ...         255.000000             255.000000   \n",
       "max              7.000000  ...         255.000000             255.000000   \n",
       "\n",
       "        \"dst_host_same_srv_rate\"   \"dst_host_diff_srv_rate\"  \\\n",
       "count               41237.000000               41237.000000   \n",
       "mean                    4.678881                   0.169168   \n",
       "std                    17.926474                   2.305841   \n",
       "min                     0.000000                   0.000000   \n",
       "25%                     1.000000                   0.000000   \n",
       "50%                     1.000000                   0.000000   \n",
       "75%                     1.000000                   0.000000   \n",
       "max                    99.000000                  99.000000   \n",
       "\n",
       "        \"dst_host_same_src_port_rate\"   \"dst_host_srv_diff_host_rate\"  \\\n",
       "count                    41237.000000                    41237.000000   \n",
       "mean                         2.636516                        1.882678   \n",
       "std                          5.331950                        2.186245   \n",
       "min                          0.000000                        0.000000   \n",
       "25%                          0.000000                        0.000000   \n",
       "50%                          1.000000                        1.000000   \n",
       "75%                          3.000000                        3.000000   \n",
       "max                         74.000000                       67.000000   \n",
       "\n",
       "       dst_host_serror_rate   \"dst_host_srv_serror_rate\"  \\\n",
       "count          41237.000000                 41237.000000   \n",
       "mean               0.350292                     0.283071   \n",
       "std                4.050813                     3.613676   \n",
       "min                0.000000                     0.000000   \n",
       "25%                0.000000                     0.000000   \n",
       "50%                0.000000                     0.000000   \n",
       "75%                0.000000                     0.000000   \n",
       "max               98.000000                    87.000000   \n",
       "\n",
       "        \"dst_host_rerror_rate\"   \"dst_host_srv_rerror_rate\"  \n",
       "count             41237.000000                 41237.000000  \n",
       "mean                  0.921309                     0.797366  \n",
       "std                   6.389255                     5.699760  \n",
       "min                   0.000000                     0.000000  \n",
       "25%                   0.000000                     0.000000  \n",
       "50%                   0.000000                     0.000000  \n",
       "75%                   0.000000                     0.000000  \n",
       "max                  99.000000                    89.000000  \n",
       "\n",
       "[8 rows x 38 columns]"
      ]
     },
     "execution_count": 10,
     "metadata": {},
     "output_type": "execute_result"
    }
   ],
   "source": [
    "df.describe()"
   ]
  },
  {
   "cell_type": "code",
   "execution_count": 11,
   "metadata": {},
   "outputs": [
    {
     "data": {
      "text/plain": [
       "Counter({'normal': 39247,\n",
       "         'apache2': 794,\n",
       "         'phf': 2,\n",
       "         'back': 1098,\n",
       "         'neptune': 93,\n",
       "         'portsweep': 2,\n",
       "         'saint': 1})"
      ]
     },
     "execution_count": 11,
     "metadata": {},
     "output_type": "execute_result"
    }
   ],
   "source": [
    "y = df[\"label\"].values\n",
    "from collections import Counter\n",
    "Counter(y)"
   ]
  },
  {
   "cell_type": "code",
   "execution_count": 12,
   "metadata": {},
   "outputs": [
    {
     "data": {
      "text/plain": [
       "count    41237.000000\n",
       "mean        15.693552\n",
       "std        148.101460\n",
       "min          0.000000\n",
       "25%          0.000000\n",
       "50%          0.000000\n",
       "75%          0.000000\n",
       "max       2100.000000\n",
       "Name: duration, dtype: float64"
      ]
     },
     "execution_count": 12,
     "metadata": {},
     "output_type": "execute_result"
    }
   ],
   "source": [
    "df[\"duration\"].describe()"
   ]
  },
  {
   "cell_type": "code",
   "execution_count": 13,
   "metadata": {},
   "outputs": [],
   "source": [
    "from sklearn.preprocessing import LabelEncoder\n",
    "encodings = dict()\n",
    "for c in df.columns:\n",
    "    if df[c].dtype == \"object\":\n",
    "        encodings[c] = LabelEncoder()\n",
    "        df[c] = encodings[c].fit_transform(df[c])"
   ]
  },
  {
   "cell_type": "code",
   "execution_count": 14,
   "metadata": {},
   "outputs": [
    {
     "data": {
      "text/plain": [
       "count    4.123700e+04\n",
       "mean     6.574147e-15\n",
       "std      1.000012e+00\n",
       "min     -1.059662e-01\n",
       "25%     -1.059662e-01\n",
       "50%     -1.059662e-01\n",
       "75%     -1.059662e-01\n",
       "max      1.407367e+01\n",
       "dtype: float64"
      ]
     },
     "execution_count": 14,
     "metadata": {},
     "output_type": "execute_result"
    }
   ],
   "source": [
    "from sklearn.preprocessing import StandardScaler\n",
    "\n",
    "durations = df['duration'].values.reshape(-1, 1)\n",
    "standard_scaler = StandardScaler().fit(durations)\n",
    "scaled_durations = standard_scaler.transform(durations)\n",
    "pd.Series(scaled_durations.flatten()).describe()"
   ]
  },
  {
   "cell_type": "code",
   "execution_count": 15,
   "metadata": {},
   "outputs": [],
   "source": [
    "y = df.pop(\"label\").values\n",
    "X = df.values"
   ]
  },
  {
   "cell_type": "code",
   "execution_count": 16,
   "metadata": {},
   "outputs": [
    {
     "data": {
      "text/plain": [
       "array([3, 3, 3, ..., 3, 3, 3])"
      ]
     },
     "execution_count": 16,
     "metadata": {},
     "output_type": "execute_result"
    }
   ],
   "source": [
    "y"
   ]
  },
  {
   "cell_type": "code",
   "execution_count": 17,
   "metadata": {},
   "outputs": [],
   "source": [
    "from sklearn.model_selection import train_test_split\n",
    "X_train, X_test, y_train, y_test = train_test_split(X, y, test_size=0.2, random_state=42)\n",
    "X_train, X_val, y_train, y_val = train_test_split(X_train, y_train, test_size=0.25, random_state=42)"
   ]
  },
  {
   "cell_type": "code",
   "execution_count": 18,
   "metadata": {},
   "outputs": [
    {
     "name": "stdout",
     "output_type": "stream",
     "text": [
      "0.048987510609918794\n"
     ]
    }
   ],
   "source": [
    "from sklearn.ensemble import IsolationForest\n",
    "contaminationParameter = 1-sum(y_train==encodings[\"label\"].transform([\"normal\"])[0])/len(y_train)\n",
    "print(contaminationParameter)\n",
    "IF = IsolationForest(n_estimators=100, max_samples=256,contamination=contaminationParameter)"
   ]
  },
  {
   "cell_type": "code",
   "execution_count": 19,
   "metadata": {},
   "outputs": [
    {
     "name": "stderr",
     "output_type": "stream",
     "text": [
      "C:\\Users\\vikram\\AppData\\Local\\Continuum\\anaconda3\\lib\\site-packages\\sklearn\\ensemble\\iforest.py:247: FutureWarning: behaviour=\"old\" is deprecated and will be removed in version 0.22. Please use behaviour=\"new\", which makes the decision_function change to match other anomaly detection algorithm API.\n",
      "  FutureWarning)\n"
     ]
    },
    {
     "data": {
      "text/plain": [
       "IsolationForest(behaviour='old', bootstrap=False,\n",
       "                contamination=0.048987510609918794, max_features=1.0,\n",
       "                max_samples=256, n_estimators=100, n_jobs=None,\n",
       "                random_state=None, verbose=0, warm_start=False)"
      ]
     },
     "execution_count": 19,
     "metadata": {},
     "output_type": "execute_result"
    }
   ],
   "source": [
    "IF.fit(X_train)"
   ]
  },
  {
   "cell_type": "code",
   "execution_count": 20,
   "metadata": {},
   "outputs": [
    {
     "name": "stderr",
     "output_type": "stream",
     "text": [
      "C:\\Users\\vikram\\AppData\\Local\\Continuum\\anaconda3\\lib\\site-packages\\sklearn\\ensemble\\iforest.py:415: DeprecationWarning: threshold_ attribute is deprecated in 0.20 and will be removed in 0.22.\n",
      "  \" be removed in 0.22.\", DeprecationWarning)\n"
     ]
    },
    {
     "name": "stdout",
     "output_type": "stream",
     "text": [
      "Number of errors: 8230\n",
      "Number of correct predictions: 18\n",
      "[0.17086132 0.17447097 0.15622412 ... 0.18346865 0.15901621 0.16635913]\n"
     ]
    }
   ],
   "source": [
    "scores = IF.decision_function(X_val)\n",
    "y_pred = IF.predict(X_test)\n",
    "num_errors = sum(y_pred != y_test)\n",
    "print('Number of errors: {}'.format(num_errors))\n",
    "num_correct = sum(y_pred == y_test)\n",
    "print('Number of correct predictions: {}'.format(num_correct))\n",
    "print(scores)"
   ]
  },
  {
   "cell_type": "code",
   "execution_count": 21,
   "metadata": {},
   "outputs": [
    {
     "data": {
      "image/png": "[encoded data removed]",
      "text/plain": [
       "<Figure size 1440x720 with 1 Axes>"
      ]
     },
     "metadata": {
      "needs_background": "light"
     },
     "output_type": "display_data"
    }
   ],
   "source": [
    "import matplotlib.pyplot as plt\n",
    "%matplotlib inline\n",
    "plt.figure(figsize=(20, 10))\n",
    "_ = plt.hist(scores, bins=100)"
   ]
  },
  {
   "cell_type": "code",
   "execution_count": 22,
   "metadata": {},
   "outputs": [],
   "source": [
    "cutoff = -0.1"
   ]
  },
  {
   "cell_type": "code",
   "execution_count": 23,
   "metadata": {},
   "outputs": [
    {
     "name": "stdout",
     "output_type": "stream",
     "text": [
      "Counter({3: 7871, 1: 199, 0: 165, 2: 13})\n",
      "Counter({0: 159, 1: 45, 2: 13, 3: 9})\n"
     ]
    }
   ],
   "source": [
    "print(Counter(y_val))\n",
    "print(Counter(y_val[cutoff>scores]))"
   ]
  },
  {
   "cell_type": "code",
   "execution_count": 26,
   "metadata": {},
   "outputs": [
    {
     "name": "stdout",
     "output_type": "stream",
     "text": [
      "Counter({3: 7847, 1: 224, 0: 152, 2: 22, 6: 1, 5: 1, 4: 1})\n",
      "Counter({0: 147, 1: 53, 2: 22, 3: 5, 6: 1, 5: 1})\n",
      "[[   0    0    0    0    0    0    0    0]\n",
      " [ 151    0    1    0    0    0    0    0]\n",
      " [ 206    0   18    0    0    0    0    0]\n",
      " [  22    0    0    0    0    0    0    0]\n",
      " [  18    0 7829    0    0    0    0    0]\n",
      " [   1    0    0    0    0    0    0    0]\n",
      " [   1    0    0    0    0    0    0    0]\n",
      " [   1    0    0    0    0    0    0    0]]\n"
     ]
    }
   ],
   "source": [
    "scores_test = IF.decision_function(X_test)\n",
    "print(Counter(y_test))\n",
    "print(Counter(y_test[cutoff>scores_test]))\n",
    "from sklearn.metrics import confusion_matrix\n",
    "cnf_matrix = confusion_matrix(y_test, y_pred)\n",
    "print(cnf_matrix)"
   ]
  },
  {
   "cell_type": "code",
   "execution_count": 28,
   "metadata": {},
   "outputs": [
    {
     "name": "stderr",
     "output_type": "stream",
     "text": [
      "C:\\Users\\vikram\\AppData\\Local\\Continuum\\anaconda3\\lib\\site-packages\\ipykernel_launcher.py:6: DeprecationWarning: elementwise comparison failed; this will raise an error in the future.\n",
      "  \n"
     ]
    },
    {
     "ename": "TypeError",
     "evalue": "'bool' object is not iterable",
     "output_type": "error",
     "traceback": [
      "\u001b[1;31m---------------------------------------------------------------------------\u001b[0m",
      "\u001b[1;31mTypeError\u001b[0m                                 Traceback (most recent call last)",
      "\u001b[1;32m<ipython-input-28-18f46eba1610>\u001b[0m in \u001b[0;36m<module>\u001b[1;34m\u001b[0m\n\u001b[0;32m      4\u001b[0m \u001b[0mclassifier\u001b[0m\u001b[1;33m.\u001b[0m\u001b[0mfit\u001b[0m\u001b[1;33m(\u001b[0m\u001b[0mX_train\u001b[0m\u001b[1;33m)\u001b[0m\u001b[1;33m\u001b[0m\u001b[1;33m\u001b[0m\u001b[0m\n\u001b[0;32m      5\u001b[0m \u001b[0my_pred\u001b[0m \u001b[1;33m=\u001b[0m \u001b[0mclassifier\u001b[0m\u001b[1;33m.\u001b[0m\u001b[0mpredict\u001b[0m\u001b[1;33m(\u001b[0m\u001b[0mX_train\u001b[0m\u001b[1;33m)\u001b[0m\u001b[1;33m\u001b[0m\u001b[1;33m\u001b[0m\u001b[0m\n\u001b[1;32m----> 6\u001b[1;33m \u001b[0mnum_errors\u001b[0m \u001b[1;33m=\u001b[0m \u001b[0msum\u001b[0m\u001b[1;33m(\u001b[0m\u001b[0my_pred\u001b[0m \u001b[1;33m!=\u001b[0m \u001b[0my_test\u001b[0m\u001b[1;33m)\u001b[0m\u001b[1;33m\u001b[0m\u001b[1;33m\u001b[0m\u001b[0m\n\u001b[0m\u001b[0;32m      7\u001b[0m \u001b[0mprint\u001b[0m\u001b[1;33m(\u001b[0m\u001b[1;34m'Number of errors: {}'\u001b[0m\u001b[1;33m.\u001b[0m\u001b[0mformat\u001b[0m\u001b[1;33m(\u001b[0m\u001b[0mnum_errors\u001b[0m\u001b[1;33m)\u001b[0m\u001b[1;33m)\u001b[0m\u001b[1;33m\u001b[0m\u001b[1;33m\u001b[0m\u001b[0m\n\u001b[0;32m      8\u001b[0m \u001b[0mscores\u001b[0m \u001b[1;33m=\u001b[0m \u001b[0mIF\u001b[0m\u001b[1;33m.\u001b[0m\u001b[0mdecision_function\u001b[0m\u001b[1;33m(\u001b[0m\u001b[0mX_val\u001b[0m\u001b[1;33m)\u001b[0m\u001b[1;33m\u001b[0m\u001b[1;33m\u001b[0m\u001b[0m\n",
      "\u001b[1;31mTypeError\u001b[0m: 'bool' object is not iterable"
     ]
    }
   ],
   "source": [
    "from sklearn import svm\n",
    "outlier_ratio = 0.01\n",
    "classifier = svm.OneClassSVM(nu=0.99 * outlier_ratio + 0.01, kernel=\"rbf\", gamma=0.1)\n",
    "classifier.fit(X_train)\n",
    "y_pred = classifier.predict(X_train)\n",
    "num_errors = sum(y_pred != y_test)\n",
    "print('Number of errors: {}'.format(num_errors))\n",
    "scores = IF.decision_function(X_val)"
   ]
  },
  {
   "cell_type": "code",
   "execution_count": null,
   "metadata": {},
   "outputs": [],
   "source": [
    "import matplotlib.pyplot as plt\n",
    "%matplotlib inline\n",
    "plt.figure(figsize=(20, 10))\n",
    "_ = plt.hist(scores, bins=100)"
   ]
  }
 ],
 "metadata": {
  "kernelspec": {
   "display_name": "Python 3",
   "language": "python",
   "name": "python3"
  },
  "language_info": {
   "codemirror_mode": {
    "name": "ipython",
    "version": 3
   },
   "file_extension": ".py",
   "mimetype": "text/x-python",
   "name": "python",
   "nbconvert_exporter": "python",
   "pygments_lexer": "ipython3",
   "version": "3.7.3"
  }
 },
 "nbformat": 4,
 "nbformat_minor": 2
}
